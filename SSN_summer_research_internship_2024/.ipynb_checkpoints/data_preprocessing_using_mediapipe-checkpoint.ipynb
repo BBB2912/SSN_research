{
 "cells": [
  {
   "cell_type": "code",
   "execution_count": null,
   "id": "e3fd4e00",
   "metadata": {},
   "outputs": [],
   "source": [
    "import pandas as pd\n",
    "import mediapipe as mp\n",
    "import cv2\n",
    "import os\n",
    "import matplotlib.pyplot as plt\n",
    "%matplotlib inline\n",
    "import numpy as np"
   ]
  },
  {
   "cell_type": "code",
   "execution_count": null,
   "id": "30bb9d22",
   "metadata": {},
   "outputs": [],
   "source": [
    "os.getcwd()"
   ]
  },
  {
   "cell_type": "code",
   "execution_count": null,
   "id": "32e06a81",
   "metadata": {},
   "outputs": [],
   "source": [
    "path='C:\\\\Users\\\\MAHIREDDY\\\\OneDrive\\\\Desktop\\\\Internships_2024\\\\SSN_summer_research_internship_2024\\\\CP-LFW\\\\images\\\\images'"
   ]
  },
  {
   "cell_type": "code",
   "execution_count": null,
   "id": "61c84fd5",
   "metadata": {},
   "outputs": [],
   "source": [
    "img_paths=[]\n",
    "cnt=0\n",
    "for img_path in os.scandir(path):\n",
    "    img_paths.append(img_path.path)"
   ]
  },
  {
   "cell_type": "code",
   "execution_count": null,
   "id": "2e34aaa7",
   "metadata": {},
   "outputs": [],
   "source": [
    "mp_face_detector=mp.solutions.face_detection\n",
    "mp_draw_utils=mp.solutions.drawing_utils"
   ]
  },
  {
   "cell_type": "code",
   "execution_count": null,
   "id": "489c2333",
   "metadata": {},
   "outputs": [],
   "source": [
    "def face_detector(path):\n",
    "    img=cv2.imread(path)\n",
    "    rgb_img=None\n",
    "    if img is not None:\n",
    "        rgb_img=cv2.cvtColor(img,cv2.COLOR_BGR2RGB)\n",
    "    else:\n",
    "        return None\n",
    "    with mp_face_detector.FaceDetection(model_selection=1,min_detection_confidence=0.5) as face_detector:\n",
    "        result=face_detector.process(rgb_img)\n",
    "        landmarks=[]\n",
    "        if result.detections != None:\n",
    "            roi_img=None\n",
    "            for detection in result.detections:\n",
    "                box=detection.location_data.relative_bounding_box\n",
    "                x_start,y_start=int(box.xmin*img.shape[1]),int(box.ymin*img.shape[0])\n",
    "                x_end,y_end=int((box.xmin+box.width)*img.shape[1]),int((box.ymin+box.height)*img.shape[0])\n",
    "                Nose=mp_face_detector.get_key_point(detection,mp_face_detector.FaceKeyPoint.NOSE_TIP)\n",
    "                mouth=mp_face_detector.get_key_point(detection,mp_face_detector.FaceKeyPoint.MOUTH_CENTER)\n",
    "                right_eye=mp_face_detector.get_key_point(detection,mp_face_detector.FaceKeyPoint.RIGHT_EYE)\n",
    "                left_eye=mp_face_detector.get_key_point(detection,mp_face_detector.FaceKeyPoint.LEFT_EYE)\n",
    "                right_ear=mp_face_detector.get_key_point(detection,mp_face_detector.FaceKeyPoint.RIGHT_EAR_TRAGION)\n",
    "                left_ear=mp_face_detector.get_key_point(detection,mp_face_detector.FaceKeyPoint.LEFT_EAR_TRAGION)\n",
    "                landmarks.append((Nose,mouth,right_eye,left_eye,right_ear,left_ear))\n",
    "                roi_img=img[y_start:y_end,x_start:x_end]\n",
    "                extracted_landmarks=[]\n",
    "                for landmark in landmarks[0]:\n",
    "                    extracted_landmarks.append((landmark.x,landmark.y))\n",
    "            return (roi_img,extracted_landmarks)\n",
    "        else:\n",
    "            print('no face detected.......!')\n",
    "            return None\n",
    "            "
   ]
  },
  {
   "cell_type": "code",
   "execution_count": null,
   "id": "2adbeaed",
   "metadata": {},
   "outputs": [],
   "source": [
    "result=face_detector(img_paths[1])"
   ]
  },
  {
   "cell_type": "code",
   "execution_count": null,
   "id": "99e53977",
   "metadata": {},
   "outputs": [],
   "source": [
    "result"
   ]
  },
  {
   "cell_type": "code",
   "execution_count": null,
   "id": "65f4ad33",
   "metadata": {},
   "outputs": [],
   "source": [
    "plt.imshow(cv2.imread(r'C:\\Users\\MAHIREDDY\\OneDrive\\Desktop\\Internships_2024\\SSN_summer_research_internship_2024\\CP-LFW\\images\\images\\Bob_Dole_1.jpg'))"
   ]
  },
  {
   "cell_type": "markdown",
   "id": "77c7efbf",
   "metadata": {},
   "source": [
    "# prepare dataset"
   ]
  },
  {
   "cell_type": "code",
   "execution_count": null,
   "id": "44e3bc8e",
   "metadata": {},
   "outputs": [],
   "source": [
    "def prepare_datset_paths(path):\n",
    "    paths=[]\n",
    "    labels=[]\n",
    "    for img in os.scandir(path):\n",
    "        paths.append(img.path)\n",
    "        labels.append(img.path.split('\\\\')[-1].split('.')[0])\n",
    "    return img_paths,labels"
   ]
  },
  {
   "cell_type": "code",
   "execution_count": null,
   "id": "8b39181e",
   "metadata": {},
   "outputs": [],
   "source": [
    "paths,labels=prepare_datset_paths(path)"
   ]
  },
  {
   "cell_type": "code",
   "execution_count": null,
   "id": "e3e3d085",
   "metadata": {},
   "outputs": [],
   "source": [
    "len(paths)"
   ]
  },
  {
   "cell_type": "code",
   "execution_count": null,
   "id": "07eb691c",
   "metadata": {},
   "outputs": [],
   "source": [
    "len(labels)"
   ]
  },
  {
   "cell_type": "code",
   "execution_count": null,
   "id": "d3e83d30",
   "metadata": {},
   "outputs": [],
   "source": [
    "cropped_faces_path='C:\\\\Users\\\\MAHIREDDY\\\\OneDrive\\\\Desktop\\\\Internships_2024\\\\SSN_summer_research_internship_2024\\\\CP-LFW\\\\images\\\\croped_face_images'"
   ]
  },
  {
   "cell_type": "code",
   "execution_count": null,
   "id": "ef136407",
   "metadata": {},
   "outputs": [],
   "source": [
    "def prepare_cropped_faces(new_folder_path,paths_list,labels_list):\n",
    "    cropped_img_paths=[]\n",
    "    face_detected_labels=[]\n",
    "    ## create a folder for store cropped faces\n",
    "    if not os.path.exists(new_folder_path):\n",
    "        os.makedirs(new_folder_path)\n",
    "        print(f\"Folder '{new_folder_path}' created.\")\n",
    "    else:\n",
    "        print(f\"Folder '{new_folder_path}' already exists.\")\n",
    "    ## landmarks dictionary\n",
    "    landmarks_dict={'Nose_x':[],'Nose_y':[],'Mouth_x':[],'Mouth_y':[],'Right_eye_x':[],'Right_eye_y':[],'Left_eye_x':[],'Left_eye_y':[],'Right_ear_x':[],'Right_ear_y':[],'Left_ear_x':[],'Left_ear_y':[]}\n",
    "    keys=['Nose_','Mouth_','Right_eye_','Left_eye_','Right_ear_','Left_ear_']\n",
    "    ##iterate through image paths and generate roi images\n",
    "    for index,img_path in enumerate(paths_list):\n",
    "        result=face_detector(img_path)\n",
    "        if result!=None:\n",
    "            if np.any(result[0]) and np.any(result[1]):\n",
    "                roi,landmarks=face_detector(img_path)\n",
    "                for i,key in enumerate(keys):\n",
    "                    landmarks_dict[key+'x'].append(landmarks[i][0])\n",
    "                    landmarks_dict[key+'y'].append(landmarks[i][1])\n",
    "                img_new_path=new_folder_path+'\\\\'+labels_list[index]+'.png'\n",
    "                print(img_new_path)\n",
    "                cropped_img_paths.append(img_new_path)\n",
    "                face_detected_labels.append(labels_list[index])\n",
    "                cv2.imwrite(img_new_path,roi)\n",
    "            else:\n",
    "                continue\n",
    "        else:\n",
    "            continue\n",
    "            \n",
    "    return landmarks_dict,cropped_img_paths,face_detected_labels  \n",
    "                "
   ]
  },
  {
   "cell_type": "code",
   "execution_count": null,
   "id": "13a0cbeb",
   "metadata": {},
   "outputs": [],
   "source": [
    "face_landmarks,face_paths,face_labels=prepare_cropped_faces(cropped_faces_path,paths,labels)"
   ]
  },
  {
   "cell_type": "code",
   "execution_count": null,
   "id": "e8e410fe",
   "metadata": {},
   "outputs": [],
   "source": [
    "len(face_paths)"
   ]
  },
  {
   "cell_type": "code",
   "execution_count": null,
   "id": "39265651",
   "metadata": {},
   "outputs": [],
   "source": [
    "face_landmarks"
   ]
  },
  {
   "cell_type": "code",
   "execution_count": null,
   "id": "032f2875",
   "metadata": {},
   "outputs": [],
   "source": [
    "landmarks_df=pd.DataFrame(data=face_landmarks,columns=['Nose_x','Nose_y','Mouth_x','Mouth_y','Right_eye_x','Right_eye_y','Left_eye_x','Left_eye_y','Right_ear_x','Right_ear_y','Left_ear_x','Left_ear_y'])"
   ]
  },
  {
   "cell_type": "code",
   "execution_count": null,
   "id": "3e0c2e84",
   "metadata": {},
   "outputs": [],
   "source": [
    "landmarks_df"
   ]
  },
  {
   "cell_type": "code",
   "execution_count": null,
   "id": "ad108ef0",
   "metadata": {},
   "outputs": [],
   "source": [
    "file_path='C:\\\\Users\\\\MAHIREDDY\\\\OneDrive\\\\Desktop\\\\Internships_2024\\\\SSN_summer_research_internship_2024\\\\CP-LFW\\\\images\\\\face_landmarks.csv'"
   ]
  },
  {
   "cell_type": "code",
   "execution_count": null,
   "id": "0457db75",
   "metadata": {},
   "outputs": [],
   "source": [
    "landmarks_df.to_csv(file_path,index=False)"
   ]
  },
  {
   "cell_type": "code",
   "execution_count": null,
   "id": "c3318a39",
   "metadata": {},
   "outputs": [],
   "source": [
    "import tensorflow as tf\n",
    "from tensorflow import keras"
   ]
  },
  {
   "cell_type": "code",
   "execution_count": null,
   "id": "083c4e45",
   "metadata": {},
   "outputs": [],
   "source": [
    "def return_images_array(paths):\n",
    "    images=[]\n",
    "    for path in paths:\n",
    "        img=cv2.imread(path)\n",
    "        resized_image = cv2.resize(img, (128,128))\n",
    "        rgb_img=cv2.cvtColor(resized_image,cv2.COLOR_BGR2RGB)\n",
    "        images.append(rgb_img)\n",
    "    return images\n"
   ]
  },
  {
   "cell_type": "code",
   "execution_count": null,
   "id": "ae93ca4c",
   "metadata": {},
   "outputs": [],
   "source": [
    "x=return_images_array(face_paths)"
   ]
  },
  {
   "cell_type": "code",
   "execution_count": null,
   "id": "642af459",
   "metadata": {},
   "outputs": [],
   "source": [
    "x.shape"
   ]
  },
  {
   "cell_type": "code",
   "execution_count": null,
   "id": "40524f13",
   "metadata": {},
   "outputs": [],
   "source": [
    "face_labels=[label[:-2] for label in face_labels]"
   ]
  },
  {
   "cell_type": "code",
   "execution_count": null,
   "id": "3504fd09",
   "metadata": {},
   "outputs": [],
   "source": [
    "labels_df=pd.DataFrame(data=face_labels,columns=['person_name'])"
   ]
  },
  {
   "cell_type": "code",
   "execution_count": null,
   "id": "3c781d26",
   "metadata": {},
   "outputs": [],
   "source": [
    "labels_dummies_df=pd.get_dummies(data=labels_df,columns=['person_name'])"
   ]
  },
  {
   "cell_type": "code",
   "execution_count": null,
   "id": "b2d65bf5",
   "metadata": {},
   "outputs": [],
   "source": [
    "labels_dummies_df.replace({True:1,False:0},inplace=True)"
   ]
  },
  {
   "cell_type": "code",
   "execution_count": null,
   "id": "f61d6060",
   "metadata": {},
   "outputs": [],
   "source": [
    "labels_dummies_df"
   ]
  },
  {
   "cell_type": "code",
   "execution_count": null,
   "id": "4589587d",
   "metadata": {},
   "outputs": [],
   "source": [
    "output_labels=list(labels_df['person_name'].unique())"
   ]
  },
  {
   "cell_type": "code",
   "execution_count": null,
   "id": "0f2ce89e",
   "metadata": {},
   "outputs": [],
   "source": [
    "output_labels_dict={i:name for i,name in enumerate(output_labels)}"
   ]
  },
  {
   "cell_type": "code",
   "execution_count": null,
   "id": "7437595f",
   "metadata": {},
   "outputs": [],
   "source": []
  },
  {
   "cell_type": "code",
   "execution_count": null,
   "id": "72c118e3",
   "metadata": {},
   "outputs": [],
   "source": []
  },
  {
   "cell_type": "code",
   "execution_count": null,
   "id": "2813f9a0",
   "metadata": {},
   "outputs": [],
   "source": []
  },
  {
   "cell_type": "code",
   "execution_count": null,
   "id": "82018afe",
   "metadata": {},
   "outputs": [],
   "source": []
  },
  {
   "cell_type": "code",
   "execution_count": null,
   "id": "07e017f9",
   "metadata": {},
   "outputs": [],
   "source": []
  },
  {
   "cell_type": "code",
   "execution_count": null,
   "id": "648214ef",
   "metadata": {},
   "outputs": [],
   "source": []
  }
 ],
 "metadata": {
  "kernelspec": {
   "display_name": "Python 3 (ipykernel)",
   "language": "python",
   "name": "python3"
  },
  "language_info": {
   "codemirror_mode": {
    "name": "ipython",
    "version": 3
   },
   "file_extension": ".py",
   "mimetype": "text/x-python",
   "name": "python",
   "nbconvert_exporter": "python",
   "pygments_lexer": "ipython3",
   "version": "3.11.5"
  }
 },
 "nbformat": 4,
 "nbformat_minor": 5
}
